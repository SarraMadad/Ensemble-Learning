{
 "cells": [
  {
   "cell_type": "markdown",
   "id": "2ca76697",
   "metadata": {},
   "source": [
    "# TD - Ensemble Learning\n",
    "\n",
    "- Pensez à mesurer les temps d’apprentissage et d’inférence de chaque solution"
   ]
  },
  {
   "cell_type": "markdown",
   "id": "f025690d",
   "metadata": {},
   "source": [
    "### A. Base de données\n",
    "\n",
    "##### La base de données « beer quality » comporte 1600 exemples décrits par 11 caractéristiques quantitatives. L’objectif est d’évaluer, sachant ces variables, la qualité d’une bière, évaluée de 1 (sans commentaire !) à 10 (particulièrement excellente). \n",
    "\n",
    "Charger la base et la séparer en deux : la matrice X des observations et le vecteur y des labels. Analyser rapidement les variables prédictives X et la variable à prédire y (quality).\n",
    "\n",
    "Diviser la base de données en deux sous-ensembles d’apprentissage et de test (70/30).\n"
   ]
  },
  {
   "cell_type": "code",
   "execution_count": 1,
   "id": "a54b7d05",
   "metadata": {},
   "outputs": [],
   "source": [
    "#imports\n",
    "from imblearn.over_sampling import SMOTE\n",
    "import pandas as pd\n",
    "import numpy as np\n",
    "import matplotlib.pyplot as plt\n",
    "import seaborn as sns\n",
    "import time\n",
    "\n",
    "from sklearn.model_selection import train_test_split\n",
    "from sklearn import preprocessing\n",
    "from sklearn import tree\n",
    "from sklearn.tree import DecisionTreeClassifier\n",
    "from sklearn.datasets import load_iris\n",
    "from sklearn.linear_model import LogisticRegression\n",
    "from sklearn.model_selection import RandomizedSearchCV\n",
    "from sklearn import metrics\n",
    "from sklearn.ensemble import AdaBoostClassifier\n",
    "from sklearn.neural_network import MLPClassifier\n",
    "from sklearn.metrics import plot_confusion_matrix\n",
    "from sklearn.metrics import accuracy_score\n",
    "from sklearn.ensemble import BaggingClassifier\n",
    "from sklearn.ensemble import RandomForestClassifier\n",
    "\n",
    "from tensorflow.keras.utils import to_categorical\n",
    "from tensorflow.keras.models import Sequential\n",
    "from tensorflow.keras.layers import InputLayer\n",
    "from tensorflow.keras.layers import Dense"
   ]
  },
  {
   "cell_type": "code",
   "execution_count": 3,
   "id": "c7ec1025",
   "metadata": {},
   "outputs": [],
   "source": [
    "df_beer = pd.DataFrame(pd.read_excel(\"C:/Users/sarah/OneDrive/Bureau/TP_Ensemble_Learning/beer_quality.xlsx\"))\n",
    "#df_beer = pd.read_csv('C:/Users/sarah/OneDrive/Bureau/5A/Machine Learning Avancé/TP_Ensemble_Learning/beer_quality.csv',header=0,sep=\";\")\n",
    "#X = df_beer.iloc[:, 0:11] #matrice des observations des 11 premières colonnes\n",
    "#y = df_beer.iloc[:, 11] #label = quality (12ème colonne)\n",
    "\n",
    "colonneData = df_beer.columns\n",
    "colonney = \"quality\"\n",
    "colonneX = colonneData.drop(colonney)\n",
    "\n",
    "X = df_beer[colonneX]\n",
    "y = df_beer[colonney]"
   ]
  },
  {
   "cell_type": "code",
   "execution_count": 4,
   "id": "37a71d78",
   "metadata": {},
   "outputs": [
    {
     "data": {
      "text/html": [
       "<div>\n",
       "<style scoped>\n",
       "    .dataframe tbody tr th:only-of-type {\n",
       "        vertical-align: middle;\n",
       "    }\n",
       "\n",
       "    .dataframe tbody tr th {\n",
       "        vertical-align: top;\n",
       "    }\n",
       "\n",
       "    .dataframe thead th {\n",
       "        text-align: right;\n",
       "    }\n",
       "</style>\n",
       "<table border=\"1\" class=\"dataframe\">\n",
       "  <thead>\n",
       "    <tr style=\"text-align: right;\">\n",
       "      <th></th>\n",
       "      <th>fixed acidity</th>\n",
       "      <th>volatile acidity</th>\n",
       "      <th>citric acid</th>\n",
       "      <th>residual sugar</th>\n",
       "      <th>chlorides</th>\n",
       "      <th>free sulfur dioxide</th>\n",
       "      <th>total sulfur dioxide</th>\n",
       "      <th>density</th>\n",
       "      <th>pH</th>\n",
       "      <th>sulphates</th>\n",
       "      <th>alcohol</th>\n",
       "      <th>quality</th>\n",
       "    </tr>\n",
       "  </thead>\n",
       "  <tbody>\n",
       "    <tr>\n",
       "      <th>0</th>\n",
       "      <td>7.4</td>\n",
       "      <td>0.700</td>\n",
       "      <td>0.00</td>\n",
       "      <td>1.9</td>\n",
       "      <td>0.076</td>\n",
       "      <td>11.0</td>\n",
       "      <td>34.0</td>\n",
       "      <td>0.99780</td>\n",
       "      <td>3.51</td>\n",
       "      <td>0.56</td>\n",
       "      <td>9.4</td>\n",
       "      <td>5</td>\n",
       "    </tr>\n",
       "    <tr>\n",
       "      <th>1</th>\n",
       "      <td>7.8</td>\n",
       "      <td>0.880</td>\n",
       "      <td>0.00</td>\n",
       "      <td>2.6</td>\n",
       "      <td>0.098</td>\n",
       "      <td>25.0</td>\n",
       "      <td>67.0</td>\n",
       "      <td>0.99680</td>\n",
       "      <td>3.20</td>\n",
       "      <td>0.68</td>\n",
       "      <td>9.8</td>\n",
       "      <td>5</td>\n",
       "    </tr>\n",
       "    <tr>\n",
       "      <th>2</th>\n",
       "      <td>7.8</td>\n",
       "      <td>0.760</td>\n",
       "      <td>0.04</td>\n",
       "      <td>2.3</td>\n",
       "      <td>0.092</td>\n",
       "      <td>15.0</td>\n",
       "      <td>54.0</td>\n",
       "      <td>0.99700</td>\n",
       "      <td>3.26</td>\n",
       "      <td>0.65</td>\n",
       "      <td>9.8</td>\n",
       "      <td>5</td>\n",
       "    </tr>\n",
       "    <tr>\n",
       "      <th>3</th>\n",
       "      <td>11.2</td>\n",
       "      <td>0.280</td>\n",
       "      <td>0.56</td>\n",
       "      <td>1.9</td>\n",
       "      <td>0.075</td>\n",
       "      <td>17.0</td>\n",
       "      <td>60.0</td>\n",
       "      <td>0.99800</td>\n",
       "      <td>3.16</td>\n",
       "      <td>0.58</td>\n",
       "      <td>9.8</td>\n",
       "      <td>6</td>\n",
       "    </tr>\n",
       "    <tr>\n",
       "      <th>4</th>\n",
       "      <td>7.4</td>\n",
       "      <td>0.700</td>\n",
       "      <td>0.00</td>\n",
       "      <td>1.9</td>\n",
       "      <td>0.076</td>\n",
       "      <td>11.0</td>\n",
       "      <td>34.0</td>\n",
       "      <td>0.99780</td>\n",
       "      <td>3.51</td>\n",
       "      <td>0.56</td>\n",
       "      <td>9.4</td>\n",
       "      <td>5</td>\n",
       "    </tr>\n",
       "    <tr>\n",
       "      <th>...</th>\n",
       "      <td>...</td>\n",
       "      <td>...</td>\n",
       "      <td>...</td>\n",
       "      <td>...</td>\n",
       "      <td>...</td>\n",
       "      <td>...</td>\n",
       "      <td>...</td>\n",
       "      <td>...</td>\n",
       "      <td>...</td>\n",
       "      <td>...</td>\n",
       "      <td>...</td>\n",
       "      <td>...</td>\n",
       "    </tr>\n",
       "    <tr>\n",
       "      <th>1594</th>\n",
       "      <td>6.2</td>\n",
       "      <td>0.600</td>\n",
       "      <td>0.08</td>\n",
       "      <td>2.0</td>\n",
       "      <td>0.090</td>\n",
       "      <td>32.0</td>\n",
       "      <td>44.0</td>\n",
       "      <td>0.99490</td>\n",
       "      <td>3.45</td>\n",
       "      <td>0.58</td>\n",
       "      <td>10.5</td>\n",
       "      <td>5</td>\n",
       "    </tr>\n",
       "    <tr>\n",
       "      <th>1595</th>\n",
       "      <td>5.9</td>\n",
       "      <td>0.550</td>\n",
       "      <td>0.10</td>\n",
       "      <td>2.2</td>\n",
       "      <td>0.062</td>\n",
       "      <td>39.0</td>\n",
       "      <td>51.0</td>\n",
       "      <td>0.99512</td>\n",
       "      <td>3.52</td>\n",
       "      <td>0.76</td>\n",
       "      <td>11.2</td>\n",
       "      <td>6</td>\n",
       "    </tr>\n",
       "    <tr>\n",
       "      <th>1596</th>\n",
       "      <td>6.3</td>\n",
       "      <td>0.510</td>\n",
       "      <td>0.13</td>\n",
       "      <td>2.3</td>\n",
       "      <td>0.076</td>\n",
       "      <td>29.0</td>\n",
       "      <td>40.0</td>\n",
       "      <td>0.99574</td>\n",
       "      <td>3.42</td>\n",
       "      <td>0.75</td>\n",
       "      <td>11.0</td>\n",
       "      <td>6</td>\n",
       "    </tr>\n",
       "    <tr>\n",
       "      <th>1597</th>\n",
       "      <td>5.9</td>\n",
       "      <td>0.645</td>\n",
       "      <td>0.12</td>\n",
       "      <td>2.0</td>\n",
       "      <td>0.075</td>\n",
       "      <td>32.0</td>\n",
       "      <td>44.0</td>\n",
       "      <td>0.99547</td>\n",
       "      <td>3.57</td>\n",
       "      <td>0.71</td>\n",
       "      <td>10.2</td>\n",
       "      <td>5</td>\n",
       "    </tr>\n",
       "    <tr>\n",
       "      <th>1598</th>\n",
       "      <td>6.0</td>\n",
       "      <td>0.310</td>\n",
       "      <td>0.47</td>\n",
       "      <td>3.6</td>\n",
       "      <td>0.067</td>\n",
       "      <td>18.0</td>\n",
       "      <td>42.0</td>\n",
       "      <td>0.99549</td>\n",
       "      <td>3.39</td>\n",
       "      <td>0.66</td>\n",
       "      <td>11.0</td>\n",
       "      <td>6</td>\n",
       "    </tr>\n",
       "  </tbody>\n",
       "</table>\n",
       "<p>1599 rows × 12 columns</p>\n",
       "</div>"
      ],
      "text/plain": [
       "      fixed acidity  volatile acidity  citric acid  residual sugar  chlorides  \\\n",
       "0               7.4             0.700         0.00             1.9      0.076   \n",
       "1               7.8             0.880         0.00             2.6      0.098   \n",
       "2               7.8             0.760         0.04             2.3      0.092   \n",
       "3              11.2             0.280         0.56             1.9      0.075   \n",
       "4               7.4             0.700         0.00             1.9      0.076   \n",
       "...             ...               ...          ...             ...        ...   \n",
       "1594            6.2             0.600         0.08             2.0      0.090   \n",
       "1595            5.9             0.550         0.10             2.2      0.062   \n",
       "1596            6.3             0.510         0.13             2.3      0.076   \n",
       "1597            5.9             0.645         0.12             2.0      0.075   \n",
       "1598            6.0             0.310         0.47             3.6      0.067   \n",
       "\n",
       "      free sulfur dioxide  total sulfur dioxide  density    pH  sulphates  \\\n",
       "0                    11.0                  34.0  0.99780  3.51       0.56   \n",
       "1                    25.0                  67.0  0.99680  3.20       0.68   \n",
       "2                    15.0                  54.0  0.99700  3.26       0.65   \n",
       "3                    17.0                  60.0  0.99800  3.16       0.58   \n",
       "4                    11.0                  34.0  0.99780  3.51       0.56   \n",
       "...                   ...                   ...      ...   ...        ...   \n",
       "1594                 32.0                  44.0  0.99490  3.45       0.58   \n",
       "1595                 39.0                  51.0  0.99512  3.52       0.76   \n",
       "1596                 29.0                  40.0  0.99574  3.42       0.75   \n",
       "1597                 32.0                  44.0  0.99547  3.57       0.71   \n",
       "1598                 18.0                  42.0  0.99549  3.39       0.66   \n",
       "\n",
       "      alcohol  quality  \n",
       "0         9.4        5  \n",
       "1         9.8        5  \n",
       "2         9.8        5  \n",
       "3         9.8        6  \n",
       "4         9.4        5  \n",
       "...       ...      ...  \n",
       "1594     10.5        5  \n",
       "1595     11.2        6  \n",
       "1596     11.0        6  \n",
       "1597     10.2        5  \n",
       "1598     11.0        6  \n",
       "\n",
       "[1599 rows x 12 columns]"
      ]
     },
     "execution_count": 4,
     "metadata": {},
     "output_type": "execute_result"
    }
   ],
   "source": [
    "df_beer"
   ]
  },
  {
   "cell_type": "code",
   "execution_count": null,
   "id": "8b2409e4",
   "metadata": {},
   "outputs": [],
   "source": [
    "'''print(X)\n",
    "print(y)\n",
    "print(np.unique(y))'''"
   ]
  },
  {
   "cell_type": "code",
   "execution_count": 5,
   "id": "ff8c688c",
   "metadata": {},
   "outputs": [
    {
     "name": "stdout",
     "output_type": "stream",
     "text": [
      "Classe : 3 Fréquence : 10\n",
      "Classe : 4 Fréquence : 53\n",
      "Classe : 5 Fréquence : 681\n",
      "Classe : 6 Fréquence : 638\n",
      "Classe : 7 Fréquence : 199\n",
      "Classe : 8 Fréquence : 18\n"
     ]
    }
   ],
   "source": [
    "classes = list(y)\n",
    "\n",
    "for item in set(classes):\n",
    "    freq = classes.count(item)\n",
    "    print('Classe :', item,'Fréquence :', freq)"
   ]
  },
  {
   "cell_type": "code",
   "execution_count": 6,
   "id": "6e107638",
   "metadata": {},
   "outputs": [],
   "source": [
    "#on sépare nos données en entrainement/test\n",
    "#70% training et 30% test\n",
    "X_train, X_test, y_train, y_test = train_test_split(X, y, test_size=0.3)"
   ]
  },
  {
   "cell_type": "markdown",
   "id": "7d2ef314",
   "metadata": {},
   "source": [
    "### B. Classification binaire\n",
    "\n",
    "##### 1. Créer une nouvelle variable quantitative ybin à deux modalités : \n",
    "-\t0 : mauvaise qualité : y < m\n",
    "-\t1 : bonne qualité : y  >= m\n",
    "\n",
    "en fonction de la médiane m de la variable y."
   ]
  },
  {
   "cell_type": "code",
   "execution_count": null,
   "id": "90063055",
   "metadata": {},
   "outputs": [],
   "source": [
    "'''#TODO : changer le code\n",
    "ybin = []\n",
    "for i in range(len(y)):\n",
    "    if y[i] < np.median(y_train): #on calcule la médiane que sur les données de train\n",
    "        res = 0\n",
    "        ybin.append(res)\n",
    "    else: \n",
    "        res = 1\n",
    "        ybin.append(res)\n",
    "\n",
    "print(ybin) #c'est notre nouveau label car classification binaire'''"
   ]
  },
  {
   "cell_type": "code",
   "execution_count": 7,
   "id": "49408b95",
   "metadata": {},
   "outputs": [
    {
     "data": {
      "text/plain": [
       "1    855\n",
       "0    744\n",
       "Name: quality, dtype: int64"
      ]
     },
     "execution_count": 7,
     "metadata": {},
     "output_type": "execute_result"
    }
   ],
   "source": [
    "ybin = y.apply(lambda x: 1 if x>=np.median(y_train) else 0) #sinon ne fonctionne si on laisse .values\n",
    "ybin.value_counts()"
   ]
  },
  {
   "cell_type": "markdown",
   "id": "dda17dc7",
   "metadata": {},
   "source": [
    "##### 2. Optimiser rapidement un arbre de décision pour réaliser la classification en faisant une recherche aléatoire (random search)."
   ]
  },
  {
   "cell_type": "code",
   "execution_count": 8,
   "id": "8a3d0b2a",
   "metadata": {
    "scrolled": true
   },
   "outputs": [
    {
     "name": "stdout",
     "output_type": "stream",
     "text": [
      " Results from Random Search \n",
      "\n",
      " The best estimator across ALL searched params:\n",
      " DecisionTreeClassifier(criterion='entropy', max_depth=20)\n",
      "\n",
      " The best score across ALL searched params:\n",
      " 0.7265334721332478\n",
      "\n",
      " The best parameters across ALL searched params:\n",
      " {'min_samples_split': 2, 'max_depth': 20, 'criterion': 'entropy'}\n"
     ]
    }
   ],
   "source": [
    "#on veut créer notre arbre de décision : pour cela il faut optimiser 2 param :\n",
    "#min_samples et max_depth\n",
    "\n",
    "#on crée notre modèle\n",
    "decision_tree = DecisionTreeClassifier()\n",
    "\n",
    "#on instancie les paramètres\n",
    "parameters = {'max_depth': range(2, 100),'min_samples_split': range(2, 10),'criterion': ['gini', 'entropy']}\n",
    "\n",
    "\n",
    "#initialiser une recherche sur grille\n",
    "random_search = RandomizedSearchCV(estimator=decision_tree, param_distributions = parameters, cv = 5)\n",
    "\n",
    "#faire tourner la recherche sur grille\n",
    "random_search.fit(X_train, ybin[X_train.index])\n",
    "\n",
    "#afficher les paramètres optimaux\n",
    "print(\" Results from Random Search \" )\n",
    "print(\"\\n The best estimator across ALL searched params:\\n\", random_search.best_estimator_)\n",
    "print(\"\\n The best score across ALL searched params:\\n\", random_search.best_score_) #en validation => cv\n",
    "print(\"\\n The best parameters across ALL searched params:\\n\", random_search.best_params_)"
   ]
  },
  {
   "cell_type": "markdown",
   "id": "277f5510",
   "metadata": {},
   "source": [
    "Lorsqu'on lance plusieurs fois la cellule, la combinaison de tuple paramètres est initié aléatoirement.\n",
    "\n",
    "Source : https://www.kaggle.com/general/212697\n",
    "\n",
    "- max_depth : la profondeur maximale de l'arbre. Si None, les noeuds sont développés jusqu'à ce que toutes les feuilles soient pures ou jusqu'à ce que toutes les feuilles contiennent moins de min_samples_split échantillon\n",
    "\n",
    "=> La \"maximum tree depth\" qui signifie profondeur maximale de l'arbre, il s'agit d'arrêter le développement de l'arbre une fois qu'il a atteint une certaine profondeur, cela  évitera que l'arbre construise des branches avec trop peu d'exemples et donc permettra d'éviter un sur apprentissage.\n",
    "\n",
    "\n",
    "- min_samples_split : le nombre minimum d'échantillons requis pour diviser un noeud interne\n",
    "\n",
    "=> Le \"minimum sample split\" ou encore nombre d'exemples minimum pour un split consiste à ne pas splitter une branche si la décision concerne trop peu d'exemples. Cela permet également d'empêcher le surapprentissage.\n",
    "\n",
    "\n",
    "- Entropie ou Gini ? https://quantdare.com/decision-trees-gini-vs-entropy/"
   ]
  },
  {
   "cell_type": "code",
   "execution_count": 9,
   "id": "e121acf1",
   "metadata": {},
   "outputs": [
    {
     "name": "stdout",
     "output_type": "stream",
     "text": [
      "Temps d'apprentissage :  7.150213669409594e-06\n",
      "Accuracy en apprentissage: 0.9991063449508489\n",
      "Erreur en apprentissage : 0.0008936550491510653\n",
      "Accuracy en test: 0.7645833333333333\n",
      "Erreur en apprentissage : 0.23541666666666672\n"
     ]
    }
   ],
   "source": [
    "#on crée notre arbre de décision optimal pour en mesurer ses performances ainsi que son temps d'inférence\n",
    "decision_tree_opt = DecisionTreeClassifier(criterion='entropy', max_depth=89, min_samples_split=3)\n",
    "\n",
    "#on entraine nos données et on mesure le temps d'apprentissage\n",
    "t0 = time.time()\n",
    "decision_tree_opt.fit(X_train, ybin[X_train.index])\n",
    "t1 = time.time()\n",
    "\n",
    "#prédiction des labels pour les données d'apprentissage\n",
    "predtree_app = decision_tree_opt.predict(X_train)\n",
    "\n",
    "#prédiction des labels pour les données de test\n",
    "predtree_test = decision_tree_opt.predict(X_test)\n",
    "\n",
    "#temps d'apprentissage\n",
    "total = (t1-t0)/len(X_train)\n",
    "print(\"Temps d'apprentissage : \", total)\n",
    "\n",
    "#erreur en apprentissage = 1 - accuracy\n",
    "print(\"Accuracy en apprentissage:\",metrics.accuracy_score(ybin[X_train.index], predtree_app))\n",
    "print(\"Erreur en apprentissage :\",(1-(metrics.accuracy_score(ybin[X_train.index], predtree_app))))\n",
    "\n",
    "#erreur en test = 1 - accuracy\n",
    "print(\"Accuracy en test:\",metrics.accuracy_score(ybin[X_test.index], predtree_test))\n",
    "print(\"Erreur en apprentissage :\",(1-(metrics.accuracy_score(ybin[X_test.index], predtree_test))))"
   ]
  },
  {
   "cell_type": "markdown",
   "id": "f73dc932",
   "metadata": {},
   "source": [
    "##### 3. Entraîner un ensemble d’arbres de décision « faibles » (peu, voire très peu profonds) à l’aide de l’algorithme AdaBoost . Analyser les performances en fonction des différents paramètres :\n",
    "\n",
    "-\tEn particulier, tracer les courbes accuracy en fonction de n_estimators pour max_depth = 1, en apprentissage et en test.\n",
    "-\tTracer la courbe accuracy en fonction de n_estimators pour max_depth = 5, en apprentissage et en test.\n",
    "-\tPeut-on mesurer l’importance d’une caractéristique dans la décision AdaBoost ? Expliquez. Afficher les variables par ordre d’importance.\n",
    "-\tConclure sur le biais et la variance de l’algorithme.\n"
   ]
  },
  {
   "cell_type": "markdown",
   "id": "b768de70",
   "metadata": {},
   "source": [
    "<img src=\"https://miro.medium.com/max/1400/0*KYszvMnr3nCtjaGy.webp\">"
   ]
  },
  {
   "cell_type": "code",
   "execution_count": 10,
   "id": "e6cf864c",
   "metadata": {},
   "outputs": [
    {
     "data": {
      "text/html": [
       "<div>\n",
       "<style scoped>\n",
       "    .dataframe tbody tr th:only-of-type {\n",
       "        vertical-align: middle;\n",
       "    }\n",
       "\n",
       "    .dataframe tbody tr th {\n",
       "        vertical-align: top;\n",
       "    }\n",
       "\n",
       "    .dataframe thead th {\n",
       "        text-align: right;\n",
       "    }\n",
       "</style>\n",
       "<table border=\"1\" class=\"dataframe\">\n",
       "  <thead>\n",
       "    <tr style=\"text-align: right;\">\n",
       "      <th></th>\n",
       "      <th>Nombre_arbres</th>\n",
       "      <th>accuracy_apprentissage</th>\n",
       "      <th>accuracy_test</th>\n",
       "      <th>temps_inference</th>\n",
       "    </tr>\n",
       "  </thead>\n",
       "  <tbody>\n",
       "    <tr>\n",
       "      <th>0</th>\n",
       "      <td>2</td>\n",
       "      <td>0.714030</td>\n",
       "      <td>0.681250</td>\n",
       "      <td>0.000007</td>\n",
       "    </tr>\n",
       "    <tr>\n",
       "      <th>1</th>\n",
       "      <td>5</td>\n",
       "      <td>0.737265</td>\n",
       "      <td>0.697917</td>\n",
       "      <td>0.000007</td>\n",
       "    </tr>\n",
       "    <tr>\n",
       "      <th>2</th>\n",
       "      <td>10</td>\n",
       "      <td>0.764075</td>\n",
       "      <td>0.720833</td>\n",
       "      <td>0.000015</td>\n",
       "    </tr>\n",
       "    <tr>\n",
       "      <th>3</th>\n",
       "      <td>20</td>\n",
       "      <td>0.776586</td>\n",
       "      <td>0.745833</td>\n",
       "      <td>0.000037</td>\n",
       "    </tr>\n",
       "    <tr>\n",
       "      <th>4</th>\n",
       "      <td>30</td>\n",
       "      <td>0.785523</td>\n",
       "      <td>0.725000</td>\n",
       "      <td>0.000056</td>\n",
       "    </tr>\n",
       "    <tr>\n",
       "      <th>5</th>\n",
       "      <td>50</td>\n",
       "      <td>0.806971</td>\n",
       "      <td>0.733333</td>\n",
       "      <td>0.000080</td>\n",
       "    </tr>\n",
       "    <tr>\n",
       "      <th>6</th>\n",
       "      <td>100</td>\n",
       "      <td>0.831099</td>\n",
       "      <td>0.737500</td>\n",
       "      <td>0.000156</td>\n",
       "    </tr>\n",
       "    <tr>\n",
       "      <th>7</th>\n",
       "      <td>200</td>\n",
       "      <td>0.856122</td>\n",
       "      <td>0.739583</td>\n",
       "      <td>0.000308</td>\n",
       "    </tr>\n",
       "  </tbody>\n",
       "</table>\n",
       "</div>"
      ],
      "text/plain": [
       "   Nombre_arbres  accuracy_apprentissage  accuracy_test  temps_inference\n",
       "0              2                0.714030       0.681250         0.000007\n",
       "1              5                0.737265       0.697917         0.000007\n",
       "2             10                0.764075       0.720833         0.000015\n",
       "3             20                0.776586       0.745833         0.000037\n",
       "4             30                0.785523       0.725000         0.000056\n",
       "5             50                0.806971       0.733333         0.000080\n",
       "6            100                0.831099       0.737500         0.000156\n",
       "7            200                0.856122       0.739583         0.000308"
      ]
     },
     "execution_count": 10,
     "metadata": {},
     "output_type": "execute_result"
    }
   ],
   "source": [
    "accuracy_app = []\n",
    "accuracy_test = []\n",
    "n_estimators = [2, 5, 10, 20, 30, 50, 100, 200]\n",
    "temps_inference = []\n",
    "\n",
    "for i in n_estimators:\n",
    "    #on déclare le modèle\n",
    "    classifier = AdaBoostClassifier(DecisionTreeClassifier(max_depth=1), n_estimators=i)\n",
    "\n",
    "    #on fit et on mesure le temps d'inférence\n",
    "    t0 = time.time()\n",
    "    classifier.fit(X_train, ybin[X_train.index])\n",
    "    t1 = time.time()\n",
    "\n",
    "    #prédiction des labels pour les données de test\n",
    "    y_pred_test = classifier.predict(X_test)\n",
    "\n",
    "    #prédiction des labels pour les données d'apprentissage\n",
    "    y_pred_app = classifier.predict(X_train)\n",
    "\n",
    "    #accuracy en apprentissage\n",
    "    accuracy_app.append(metrics.accuracy_score(ybin[X_train.index], y_pred_app))\n",
    "\n",
    "    #accuracy en test\n",
    "    accuracy_test.append(metrics.accuracy_score(ybin[X_test.index], y_pred_test))\n",
    "\n",
    "    #affichage du temps d'inférence\n",
    "    total = (t1-t0)/len(X_train)\n",
    "    temps_inference.append(total)\n",
    "\n",
    "df1 = pd.DataFrame()\n",
    "df1 =df1.assign(Nombre_arbres=n_estimators)\n",
    "df1 =df1.assign(accuracy_apprentissage=accuracy_app)\n",
    "df1 =df1.assign(accuracy_test=accuracy_test)\n",
    "df1 =df1.assign(temps_inference=temps_inference)\n",
    "df1"
   ]
  },
  {
   "cell_type": "code",
   "execution_count": 10,
   "id": "889f3987",
   "metadata": {},
   "outputs": [
    {
     "data": {
      "text/html": [
       "<div>\n",
       "<style scoped>\n",
       "    .dataframe tbody tr th:only-of-type {\n",
       "        vertical-align: middle;\n",
       "    }\n",
       "\n",
       "    .dataframe tbody tr th {\n",
       "        vertical-align: top;\n",
       "    }\n",
       "\n",
       "    .dataframe thead th {\n",
       "        text-align: right;\n",
       "    }\n",
       "</style>\n",
       "<table border=\"1\" class=\"dataframe\">\n",
       "  <thead>\n",
       "    <tr style=\"text-align: right;\">\n",
       "      <th></th>\n",
       "      <th>Nombre_arbres</th>\n",
       "      <th>accuracy_apprentissage</th>\n",
       "      <th>accuracy_test</th>\n",
       "      <th>temps_inference</th>\n",
       "    </tr>\n",
       "  </thead>\n",
       "  <tbody>\n",
       "    <tr>\n",
       "      <th>0</th>\n",
       "      <td>2</td>\n",
       "      <td>0.841823</td>\n",
       "      <td>0.691667</td>\n",
       "      <td>0.000034</td>\n",
       "    </tr>\n",
       "    <tr>\n",
       "      <th>1</th>\n",
       "      <td>5</td>\n",
       "      <td>0.913315</td>\n",
       "      <td>0.722917</td>\n",
       "      <td>0.000028</td>\n",
       "    </tr>\n",
       "    <tr>\n",
       "      <th>2</th>\n",
       "      <td>10</td>\n",
       "      <td>0.995532</td>\n",
       "      <td>0.716667</td>\n",
       "      <td>0.000038</td>\n",
       "    </tr>\n",
       "    <tr>\n",
       "      <th>3</th>\n",
       "      <td>20</td>\n",
       "      <td>1.000000</td>\n",
       "      <td>0.745833</td>\n",
       "      <td>0.000074</td>\n",
       "    </tr>\n",
       "    <tr>\n",
       "      <th>4</th>\n",
       "      <td>30</td>\n",
       "      <td>1.000000</td>\n",
       "      <td>0.735417</td>\n",
       "      <td>0.000111</td>\n",
       "    </tr>\n",
       "    <tr>\n",
       "      <th>5</th>\n",
       "      <td>50</td>\n",
       "      <td>1.000000</td>\n",
       "      <td>0.754167</td>\n",
       "      <td>0.000177</td>\n",
       "    </tr>\n",
       "    <tr>\n",
       "      <th>6</th>\n",
       "      <td>100</td>\n",
       "      <td>1.000000</td>\n",
       "      <td>0.768750</td>\n",
       "      <td>0.000358</td>\n",
       "    </tr>\n",
       "    <tr>\n",
       "      <th>7</th>\n",
       "      <td>200</td>\n",
       "      <td>1.000000</td>\n",
       "      <td>0.781250</td>\n",
       "      <td>0.000760</td>\n",
       "    </tr>\n",
       "  </tbody>\n",
       "</table>\n",
       "</div>"
      ],
      "text/plain": [
       "   Nombre_arbres  accuracy_apprentissage  accuracy_test  temps_inference\n",
       "0              2                0.841823       0.691667         0.000034\n",
       "1              5                0.913315       0.722917         0.000028\n",
       "2             10                0.995532       0.716667         0.000038\n",
       "3             20                1.000000       0.745833         0.000074\n",
       "4             30                1.000000       0.735417         0.000111\n",
       "5             50                1.000000       0.754167         0.000177\n",
       "6            100                1.000000       0.768750         0.000358\n",
       "7            200                1.000000       0.781250         0.000760"
      ]
     },
     "execution_count": 10,
     "metadata": {},
     "output_type": "execute_result"
    }
   ],
   "source": [
    "accuracy_app = []\n",
    "accuracy_test = []\n",
    "n_estimators = [2, 5, 10, 20, 30, 50, 100, 200]\n",
    "temps_inference = []\n",
    "\n",
    "for i in n_estimators:\n",
    "    #on déclare le modèle\n",
    "    classifier = AdaBoostClassifier(DecisionTreeClassifier(max_depth=5), n_estimators=i)\n",
    "\n",
    "    #on fit et on mesure le temps d'inférence\n",
    "    t0 = time.time()\n",
    "    classifier.fit(X_train, ybin[X_train.index])\n",
    "    t1 = time.time()\n",
    "\n",
    "    #prédiction des labels pour les données de test\n",
    "    y_pred_test = classifier.predict(X_test)\n",
    "\n",
    "    #prédiction des labels pour les données d'apprentissage\n",
    "    y_pred_app = classifier.predict(X_train)\n",
    "\n",
    "    #accuracy en apprentissage\n",
    "    accuracy_app.append(metrics.accuracy_score(ybin[X_train.index], y_pred_app))\n",
    "\n",
    "    #accuracy en test\n",
    "    accuracy_test.append(metrics.accuracy_score(ybin[X_test.index], y_pred_test))\n",
    "\n",
    "    #affichage du temps d'inférence\n",
    "    total = (t1-t0)/len(X_train)\n",
    "    temps_inference.append(total)\n",
    "\n",
    "df5 = pd.DataFrame()\n",
    "df5 =df5.assign(Nombre_arbres=n_estimators)\n",
    "df5 =df5.assign(accuracy_apprentissage=accuracy_app)\n",
    "df5 =df5.assign(accuracy_test=accuracy_test)\n",
    "df5 =df5.assign(temps_inference=temps_inference)\n",
    "df5"
   ]
  },
  {
   "cell_type": "code",
   "execution_count": 98,
   "id": "bba0eaae",
   "metadata": {},
   "outputs": [
    {
     "data": {
      "image/png": "[encoded data removed]",
      "text/plain": [
       "<Figure size 640x480 with 1 Axes>"
      ]
     },
     "metadata": {},
     "output_type": "display_data"
    }
   ],
   "source": [
    "fig, ax = plt.subplots()\n",
    "sns.lineplot(x='Nombre_arbres', y='accuracy_apprentissage', data=df1, ax=ax, label='accuracy train pour max_depth = 1')\n",
    "sns.lineplot(x='Nombre_arbres', y='accuracy_test', data=df1, ax=ax, label='accuracy test pour max_depth = 1')\n",
    "sns.lineplot(x='Nombre_arbres', y='accuracy_apprentissage', data=df5, ax=ax, label='accuracy train pour max_depth = 5')\n",
    "sns.lineplot(x='Nombre_arbres', y='accuracy_test', data=df5, ax=ax, color='r', label='accuracy test pour max_depth = 5')\n",
    "plt.show()"
   ]
  },
  {
   "cell_type": "markdown",
   "id": "c6b35fb4",
   "metadata": {},
   "source": [
    "### Compromis biais et variance\n",
    "\n",
    "Le biais est l'erreur du modèle et la variance est à quelle point notre modèle \"colle\" aux données d'entrainement.\n",
    "Une variance trop haute couplée à un biais très bas signifie généralement un sur-apprentissage et une mauvaise généralisation, il faut donc trouver un compromis entre les deux.\n",
    "\n",
    "<img src=\"https://miro.medium.com/max/1400/1*XliJhpczDHXWNthqWAk07g.webp\">\n",
    "\n",
    "Au-delà d’un certain nombre d'arbres :\n",
    "- plus d’améliorations notables.\n",
    "- pas d’overfitting.\n",
    "\n",
    "##### Adaboost se base sur le BOOSTING : toujours apprendre sur différentes versions des données. On dirige l’apprentissage en se focalisant sur les données mal classées à l’étape précédente.\n",
    "\n",
    "#### Biais et variance.\n",
    "En orientant l’apprentissage à chaque étape, boosting agit sur le biais ; en les combinant, il agit sur la variance.\n",
    "Arbres profonds peu biaisés => la combinaison réduit la variance individuelle.\n",
    "\n",
    "En fin d’apprentissage, le poids des exemples « difficiles » augmente et l’algorithme se concentre sur ces exemples.\n",
    "\n",
    "=> augmentation de la marge (les exemples difficiles sont ceux dont la marge est la plus faible.\n",
    "\n",
    "#### On peut mesurer l'importance des variables en récupérant leurs poids : les exemples les plus difficiles à classe augmente donc les poids les plus forts représentes les variables les plus importantes.\n",
    "\n",
    "Le BOOSTING se fait sur des apprenants faibles (weak learner) qui sont des modèle qui fait juste un peu mieux que le hasard.\n",
    "Le Boosting combine des weak learner de manière appropriée et permet de produire un ensemble performant (strong classifier),\n",
    "nettement meilleur que chaque modèle pris individuellement.\n"
   ]
  },
  {
   "cell_type": "code",
   "execution_count": 11,
   "id": "0ff48f4f",
   "metadata": {},
   "outputs": [
    {
     "name": "stdout",
     "output_type": "stream",
     "text": [
      "Temps d'inférence 0.0002641788649708166\n",
      "Accuracy en apprentissage 1.0\n",
      "Accuracy en test 0.75625\n"
     ]
    },
    {
     "data": {
      "text/html": [
       "<div>\n",
       "<style scoped>\n",
       "    .dataframe tbody tr th:only-of-type {\n",
       "        vertical-align: middle;\n",
       "    }\n",
       "\n",
       "    .dataframe tbody tr th {\n",
       "        vertical-align: top;\n",
       "    }\n",
       "\n",
       "    .dataframe thead th {\n",
       "        text-align: right;\n",
       "    }\n",
       "</style>\n",
       "<table border=\"1\" class=\"dataframe\">\n",
       "  <thead>\n",
       "    <tr style=\"text-align: right;\">\n",
       "      <th></th>\n",
       "      <th>Feature</th>\n",
       "      <th>Important Variables</th>\n",
       "    </tr>\n",
       "  </thead>\n",
       "  <tbody>\n",
       "    <tr>\n",
       "      <th>1</th>\n",
       "      <td>volatile acidity</td>\n",
       "      <td>0.127885</td>\n",
       "    </tr>\n",
       "    <tr>\n",
       "      <th>4</th>\n",
       "      <td>chlorides</td>\n",
       "      <td>0.120800</td>\n",
       "    </tr>\n",
       "    <tr>\n",
       "      <th>9</th>\n",
       "      <td>sulphates</td>\n",
       "      <td>0.099618</td>\n",
       "    </tr>\n",
       "    <tr>\n",
       "      <th>10</th>\n",
       "      <td>alcohol</td>\n",
       "      <td>0.099212</td>\n",
       "    </tr>\n",
       "    <tr>\n",
       "      <th>6</th>\n",
       "      <td>total sulfur dioxide</td>\n",
       "      <td>0.091011</td>\n",
       "    </tr>\n",
       "    <tr>\n",
       "      <th>7</th>\n",
       "      <td>density</td>\n",
       "      <td>0.090682</td>\n",
       "    </tr>\n",
       "    <tr>\n",
       "      <th>8</th>\n",
       "      <td>pH</td>\n",
       "      <td>0.088309</td>\n",
       "    </tr>\n",
       "    <tr>\n",
       "      <th>0</th>\n",
       "      <td>fixed acidity</td>\n",
       "      <td>0.080547</td>\n",
       "    </tr>\n",
       "    <tr>\n",
       "      <th>5</th>\n",
       "      <td>free sulfur dioxide</td>\n",
       "      <td>0.077808</td>\n",
       "    </tr>\n",
       "    <tr>\n",
       "      <th>2</th>\n",
       "      <td>citric acid</td>\n",
       "      <td>0.070415</td>\n",
       "    </tr>\n",
       "    <tr>\n",
       "      <th>3</th>\n",
       "      <td>residual sugar</td>\n",
       "      <td>0.053713</td>\n",
       "    </tr>\n",
       "  </tbody>\n",
       "</table>\n",
       "</div>"
      ],
      "text/plain": [
       "                 Feature  Important Variables\n",
       "1       volatile acidity             0.127885\n",
       "4              chlorides             0.120800\n",
       "9              sulphates             0.099618\n",
       "10               alcohol             0.099212\n",
       "6   total sulfur dioxide             0.091011\n",
       "7                density             0.090682\n",
       "8                     pH             0.088309\n",
       "0          fixed acidity             0.080547\n",
       "5    free sulfur dioxide             0.077808\n",
       "2            citric acid             0.070415\n",
       "3         residual sugar             0.053713"
      ]
     },
     "execution_count": 11,
     "metadata": {},
     "output_type": "execute_result"
    }
   ],
   "source": [
    "import warnings\n",
    "warnings.filterwarnings('ignore')\n",
    "\n",
    "#on garde le modèle OPTIMAL\n",
    "clf = DecisionTreeClassifier(max_depth = 5)\n",
    "adaboost_clf = AdaBoostClassifier(base_estimator = clf, n_estimators=50) #selon le cours, une 100taine suffit\n",
    "\n",
    "#on fit\n",
    "t0 = time.time()\n",
    "adaboost_clf.fit(X_train, ybin[X_train.index])\n",
    "t1 = time.time()\n",
    "\n",
    "#prédiction des labels pour les données d'apprentissage\n",
    "y_pred_app = adaboost_clf.predict(X_train)\n",
    "\n",
    "#prédiction des labels pour les données de test\n",
    "y_pred_test = adaboost_clf.predict(X_test)\n",
    "\n",
    "total = (t1-t0)/len(X_train)\n",
    "print(\"Temps d'inférence\", total)\n",
    "\n",
    "#accuracy en apprentissage\n",
    "print(\"Accuracy en apprentissage\", metrics.accuracy_score(ybin[X_train.index], y_pred_app))\n",
    "#accuracy en test\n",
    "print(\"Accuracy en test\", metrics.accuracy_score(ybin[X_test.index], y_pred_test))\n",
    "\n",
    "features_importance = pd.DataFrame({\"Feature\" : X.columns, \"Important Variables\" : adaboost_clf.feature_importances_})\n",
    "features_importance = features_importance.sort_values(\"Important Variables\", ascending=False)\n",
    "features_importance"
   ]
  },
  {
   "cell_type": "markdown",
   "id": "b0e2a2f6",
   "metadata": {},
   "source": [
    "### C. Classification multiclasse\n",
    "\n",
    "##### 1. Créer une nouvelle variable quantitative ymulti discrète à 3 modalités : qualité basse (0), moyenne (1) ou élevée (2).\n",
    "\n",
    "On se base sur les quartiles :\n",
    "- Q1 => 25% à G, et 75% à D\n",
    "- Q2 => 50% à G, et 50% à D\n",
    "- Q3 => 75% à G, et 25% à D\n",
    "- Q4 => dernière valeur\n",
    "\n",
    "Ici, on va diviser en 3."
   ]
  },
  {
   "cell_type": "code",
   "execution_count": 12,
   "id": "6edab6ec",
   "metadata": {},
   "outputs": [],
   "source": [
    "ymulti = y.apply(lambda x: 2 if x>=np.quantile(y, 2/3) else 1 if x>=np.quantile(y, 1/3) else 0)"
   ]
  },
  {
   "cell_type": "markdown",
   "id": "f2eb532d",
   "metadata": {},
   "source": [
    "##### 2. Déterminer les effectifs des différentes classes. Si nécessaire, équilibrer les données d’apprentissage par sous-échantillonnage ou augmentation de données (SMOTE). Dans la suite, on présentera les résultats obtenus avec et sans équilibrage."
   ]
  },
  {
   "cell_type": "code",
   "execution_count": 13,
   "id": "6c779858",
   "metadata": {},
   "outputs": [
    {
     "data": {
      "text/plain": [
       "2    855\n",
       "1    681\n",
       "0     63\n",
       "Name: quality, dtype: int64"
      ]
     },
     "execution_count": 13,
     "metadata": {},
     "output_type": "execute_result"
    }
   ],
   "source": [
    "ymulti.value_counts() #on remarque un déséquilibre des classes"
   ]
  },
  {
   "cell_type": "markdown",
   "id": "a6733ce0",
   "metadata": {},
   "source": [
    "On va donc utiliser la librairie imbalanced-learn."
   ]
  },
  {
   "cell_type": "code",
   "execution_count": 14,
   "id": "c915d8b7",
   "metadata": {},
   "outputs": [
    {
     "data": {
      "text/plain": [
       "2    587\n",
       "1    587\n",
       "0    587\n",
       "Name: quality, dtype: int64"
      ]
     },
     "execution_count": 14,
     "metadata": {},
     "output_type": "execute_result"
    }
   ],
   "source": [
    "reechantillonnage = SMOTE()\n",
    "X_train_equil, y_train_equil = reechantillonnage.fit_resample(X_train, ymulti[X_train.index])\n",
    "y_train_equil.value_counts()"
   ]
  },
  {
   "cell_type": "markdown",
   "id": "7ffbc9aa",
   "metadata": {},
   "source": [
    "### Partie 1\n",
    "##### 3. Entraîner un réseau de neurones à une couche cachée pour effectuer cette tâche de classification, avec early stopping sur la base de validation. L’optimiser rapidement en prenant soin d’éviter l’over-fitting. Etudier les matrices de confusion des réseaux optimaux dans le cas des données déséquilibrées puis, équilibrées. Conclure.\n",
    "\n",
    "Un réseau de neurones a une couche cachée est un MPL.\n",
    "\n",
    "###### Pour nos données équilibrées :"
   ]
  },
  {
   "cell_type": "code",
   "execution_count": 15,
   "id": "caa35706",
   "metadata": {},
   "outputs": [
    {
     "data": {
      "text/plain": [
       "'train_labels = to_categorical(y_train_equil)\\ntest_labels = to_categorical(y_test)'"
      ]
     },
     "execution_count": 15,
     "metadata": {},
     "output_type": "execute_result"
    }
   ],
   "source": [
    "#on normalise nos données\n",
    "normalized_X_train = preprocessing.normalize(X_train)\n",
    "normalized_X_train_equil = preprocessing.normalize(X_train_equil)\n",
    "normalized_X_test = preprocessing.normalize(X_test)\n",
    "\n",
    "#on encode nos données sur 1 bit\n",
    "#https://rukshanpramoditha.medium.com/one-hot-encode-scalar-value-labels-for-deep-learning-models-4d4053f185c5\n",
    "'''train_labels = to_categorical(y_train_equil)\n",
    "test_labels = to_categorical(y_test)'''"
   ]
  },
  {
   "cell_type": "code",
   "execution_count": 16,
   "id": "23bb6d7b",
   "metadata": {},
   "outputs": [
    {
     "name": "stdout",
     "output_type": "stream",
     "text": [
      "1119\n",
      "1761\n",
      "480\n",
      "1119\n",
      "1761\n",
      "480\n"
     ]
    }
   ],
   "source": [
    "print(len(normalized_X_train))\n",
    "print(len(normalized_X_train_equil))\n",
    "print(len(normalized_X_test))\n",
    "\n",
    "print(len(y_train))\n",
    "print(len(y_train_equil))\n",
    "print(len(y_test))"
   ]
  },
  {
   "cell_type": "code",
   "execution_count": null,
   "id": "dac658ab",
   "metadata": {},
   "outputs": [],
   "source": [
    "'''# architecture : 1 couche d'entrée, 1 couche cachée, 1 couche de sortie\n",
    "MLP = Sequential()\n",
    "MLP.add(InputLayer(input_shape=(10,))) # input layer, \n",
    "MLP.add(Dense(64, activation='relu')) # hidden layer 1, 64 neurones\n",
    "MLP.add(Dense(3, activation='softmax')) # output layer, 3 classes de sortie, softmax car multiclass classification problem\n",
    "\n",
    "# summary\n",
    "MLP.summary()\n",
    "\n",
    "#MLP.compile(loss= 'categorical_crossentropy', optimizer='adam', metrics=['accuracy'])\n",
    "#MLP.fit(normalized_X_train, train_labels, epochs=5, validation_data=(normalized_X_test, test_labels), verbose=1)'''"
   ]
  },
  {
   "cell_type": "code",
   "execution_count": 17,
   "id": "f36ab8ff",
   "metadata": {},
   "outputs": [
    {
     "name": "stdout",
     "output_type": "stream",
     "text": [
      "Temps d'inférence 0.0004577834385487926\n",
      "Accuracy en apprentissage: 0.6712\n",
      "Accuracy en test: 0.5792\n"
     ]
    }
   ],
   "source": [
    "mlp_clf = MLPClassifier(solver='lbfgs', hidden_layer_sizes=(100), early_stopping=True)\n",
    "mlp_clf.out_activation_ = 'softmax'\n",
    "\n",
    "t0 = time.time()\n",
    "mlp_clf.fit(normalized_X_train_equil, y_train_equil)\n",
    "t1 = time.time()\n",
    "\n",
    "y_pred_app = mlp_clf.predict(normalized_X_train_equil)\n",
    "y_pred_test = mlp_clf.predict(normalized_X_test)\n",
    "total = (t1-t0)/len(normalized_X_train_equil)\n",
    "\n",
    "print(\"Temps d'inférence\", total)\n",
    "print('Accuracy en apprentissage: {:.4f}'.format(accuracy_score(y_train_equil, y_pred_app)))\n",
    "print('Accuracy en test: {:.4f}'.format(accuracy_score(ymulti[X_test.index], y_pred_test)))"
   ]
  },
  {
   "cell_type": "code",
   "execution_count": 18,
   "id": "10ae149d",
   "metadata": {},
   "outputs": [
    {
     "data": {
      "text/plain": [
       "array([1, 0, 0, 2, 0, 0, 1, 1, 1, 2, 2, 2, 2, 1, 2, 2, 0, 1, 2, 1, 0, 0,\n",
       "       0, 2, 0, 1, 0, 1, 2, 2, 1, 1, 1, 2, 1, 0, 2, 2, 2, 2, 1, 2, 2, 0,\n",
       "       2, 2, 1, 0, 2, 2, 1, 2, 1, 2, 2, 1, 0, 2, 2, 2, 1, 1, 1, 1, 1, 2,\n",
       "       2, 2, 1, 2, 2, 2, 1, 0, 0, 1, 1, 2, 1, 2, 2, 1, 2, 2, 1, 2, 1, 1,\n",
       "       2, 1, 1, 2, 2, 1, 2, 2, 1, 1, 2, 0, 0, 2, 1, 2, 1, 2, 2, 0, 1, 0,\n",
       "       1, 2, 0, 1, 1, 0, 2, 1, 1, 1, 1, 1, 1, 1, 1, 1, 0, 2, 1, 0, 2, 2,\n",
       "       1, 1, 2, 1, 2, 2, 1, 1, 2, 2, 2, 1, 0, 1, 2, 1, 1, 2, 2, 2, 0, 2,\n",
       "       2, 1, 2, 2, 2, 2, 2, 1, 1, 0, 1, 1, 2, 2, 2, 2, 0, 2, 2, 2, 1, 0,\n",
       "       1, 2, 1, 1, 2, 1, 1, 2, 2, 0, 2, 2, 1, 1, 2, 1, 2, 2, 2, 1, 0, 0,\n",
       "       0, 2, 1, 0, 2, 2, 2, 0, 2, 0, 2, 2, 1, 2, 2, 2, 2, 2, 2, 1, 2, 2,\n",
       "       1, 2, 2, 2, 2, 2, 1, 2, 0, 2, 1, 1, 0, 2, 1, 0, 2, 2, 1, 2, 1, 2,\n",
       "       1, 2, 1, 1, 0, 2, 0, 2, 2, 0, 1, 1, 1, 2, 1, 0, 2, 0, 1, 2, 2, 1,\n",
       "       2, 2, 1, 2, 2, 0, 2, 2, 1, 1, 1, 2, 2, 2, 1, 2, 0, 0, 2, 2, 1, 1,\n",
       "       1, 1, 2, 2, 0, 0, 2, 1, 1, 0, 2, 0, 1, 0, 2, 0, 2, 1, 2, 1, 0, 1,\n",
       "       0, 2, 0, 2, 1, 2, 2, 2, 2, 1, 2, 0, 2, 0, 2, 1, 1, 1, 2, 1, 0, 1,\n",
       "       0, 1, 1, 0, 2, 1, 2, 2, 0, 1, 2, 0, 1, 2, 1, 0, 2, 1, 2, 1, 2, 2,\n",
       "       1, 2, 2, 2, 2, 1, 0, 1, 2, 2, 0, 1, 0, 1, 1, 2, 0, 1, 1, 1, 2, 1,\n",
       "       1, 0, 0, 1, 2, 2, 0, 1, 2, 2, 2, 2, 1, 2, 2, 1, 1, 1, 2, 2, 2, 0,\n",
       "       0, 0, 2, 1, 2, 1, 0, 1, 0, 1, 1, 2, 1, 1, 2, 1, 1, 2, 1, 1, 1, 2,\n",
       "       0, 1, 2, 1, 1, 1, 1, 2, 1, 2, 2, 2, 1, 1, 1, 2, 2, 2, 1, 0, 2, 2,\n",
       "       1, 1, 2, 1, 2, 2, 2, 1, 2, 2, 2, 1, 2, 1, 2, 0, 2, 1, 0, 1, 2, 1,\n",
       "       1, 1, 1, 2, 2, 1, 2, 2, 2, 2, 2, 1, 0, 1, 0, 2, 1, 2], dtype=int64)"
      ]
     },
     "execution_count": 18,
     "metadata": {},
     "output_type": "execute_result"
    }
   ],
   "source": [
    "y_pred_test"
   ]
  },
  {
   "cell_type": "code",
   "execution_count": 19,
   "id": "857d79f2",
   "metadata": {},
   "outputs": [
    {
     "data": {
      "image/png": "[encoded data removed]",
      "text/plain": [
       "<Figure size 640x480 with 2 Axes>"
      ]
     },
     "metadata": {},
     "output_type": "display_data"
    }
   ],
   "source": [
    "fig = plot_confusion_matrix(mlp_clf, normalized_X_test, ymulti[X_test.index], display_labels=mlp_clf.classes_)\n",
    "fig.figure_.suptitle(\"Confusion Matrix for Winequality Dataset\")\n",
    "plt.show()"
   ]
  },
  {
   "cell_type": "markdown",
   "id": "a6e5e556",
   "metadata": {},
   "source": [
    "###### Pour nos données non-équilibrées :"
   ]
  },
  {
   "cell_type": "code",
   "execution_count": 21,
   "id": "c93272e3",
   "metadata": {},
   "outputs": [
    {
     "name": "stdout",
     "output_type": "stream",
     "text": [
      "Temps d'inférence 0.00040724237014184154\n",
      "Accuracy en apprentissage: 0.7158\n",
      "Accuracy en test: 0.6896\n"
     ]
    }
   ],
   "source": [
    "mlp_clf_noneq = MLPClassifier(solver='lbfgs', hidden_layer_sizes=(100), early_stopping=True)\n",
    "mlp_clf_noneq.out_activation_ = 'softmax'\n",
    "\n",
    "t0 = time.time()\n",
    "mlp_clf_noneq.fit(normalized_X_train, ymulti[X_train.index])\n",
    "t1 = time.time()\n",
    "\n",
    "y_pred_app_noneq = mlp_clf_noneq.predict(normalized_X_train)\n",
    "y_pred_test_noneq = mlp_clf_noneq.predict(normalized_X_test)\n",
    "total = (t1-t0)/len(normalized_X_train)\n",
    "\n",
    "print(\"Temps d'inférence\", total)\n",
    "print('Accuracy en apprentissage: {:.4f}'.format(accuracy_score(ymulti[X_train.index], y_pred_app_noneq)))\n",
    "print('Accuracy en test: {:.4f}'.format(accuracy_score(ymulti[X_test.index], y_pred_test_noneq)))"
   ]
  },
  {
   "cell_type": "code",
   "execution_count": 22,
   "id": "8a7ddd2f",
   "metadata": {},
   "outputs": [
    {
     "data": {
      "text/plain": [
       "array([0, 1, 2], dtype=int64)"
      ]
     },
     "execution_count": 22,
     "metadata": {},
     "output_type": "execute_result"
    }
   ],
   "source": [
    "mlp_clf_noneq.classes_"
   ]
  },
  {
   "cell_type": "code",
   "execution_count": 23,
   "id": "6f38f0b3",
   "metadata": {},
   "outputs": [
    {
     "data": {
      "text/plain": [
       "array([[2.58719549e-02, 6.05248511e-01, 3.68879534e-01],\n",
       "       [4.36152462e-02, 4.44312869e-01, 5.12071885e-01],\n",
       "       [2.45230795e-01, 6.63211311e-01, 9.15578944e-02],\n",
       "       ...,\n",
       "       [2.46912717e-04, 1.23163206e-02, 9.87436767e-01],\n",
       "       [1.24091564e-02, 6.19616651e-01, 3.67974193e-01],\n",
       "       [2.12629216e-02, 1.76790409e-01, 8.01946669e-01]])"
      ]
     },
     "execution_count": 23,
     "metadata": {},
     "output_type": "execute_result"
    }
   ],
   "source": [
    "res = mlp_clf_noneq.predict_proba(normalized_X_test)\n",
    "res"
   ]
  },
  {
   "cell_type": "code",
   "execution_count": 24,
   "id": "bd3d2313",
   "metadata": {},
   "outputs": [
    {
     "data": {
      "text/plain": [
       "array([1, 2, 1, 2, 1, 1, 1, 1, 2, 2, 2, 2, 2, 1, 2, 2, 2, 1, 2, 1, 1, 1,\n",
       "       1, 2, 1, 1, 1, 1, 2, 2, 1, 1, 1, 2, 1, 1, 2, 2, 2, 2, 1, 2, 2, 1,\n",
       "       2, 2, 1, 1, 2, 2, 1, 2, 2, 2, 2, 2, 2, 2, 2, 2, 1, 1, 1, 1, 1, 2,\n",
       "       2, 2, 1, 2, 2, 2, 1, 1, 1, 1, 1, 2, 1, 2, 2, 1, 2, 2, 1, 2, 1, 1,\n",
       "       2, 1, 1, 2, 2, 1, 2, 2, 1, 1, 2, 2, 0, 2, 2, 2, 1, 2, 2, 1, 1, 1,\n",
       "       1, 2, 1, 1, 2, 2, 2, 1, 1, 2, 1, 1, 1, 1, 1, 1, 1, 2, 1, 1, 2, 2,\n",
       "       1, 1, 2, 1, 2, 2, 1, 1, 2, 2, 2, 1, 1, 2, 2, 1, 1, 2, 2, 2, 1, 2,\n",
       "       2, 1, 2, 2, 2, 2, 2, 1, 1, 1, 1, 1, 2, 2, 2, 2, 1, 2, 2, 2, 1, 1,\n",
       "       1, 2, 1, 1, 2, 2, 1, 2, 2, 1, 2, 2, 1, 1, 2, 2, 2, 2, 2, 1, 2, 2,\n",
       "       1, 2, 1, 2, 2, 2, 2, 1, 2, 1, 2, 2, 1, 2, 2, 2, 2, 2, 2, 1, 2, 2,\n",
       "       1, 2, 2, 2, 2, 2, 1, 2, 1, 2, 1, 1, 1, 2, 1, 2, 2, 2, 1, 2, 1, 2,\n",
       "       1, 2, 1, 1, 1, 2, 1, 2, 2, 1, 1, 1, 2, 2, 1, 1, 2, 1, 1, 2, 2, 1,\n",
       "       2, 2, 2, 2, 2, 2, 2, 2, 1, 1, 2, 2, 2, 2, 1, 2, 2, 1, 2, 2, 1, 1,\n",
       "       1, 1, 2, 2, 1, 1, 2, 1, 1, 1, 2, 0, 1, 1, 2, 1, 2, 1, 2, 1, 2, 1,\n",
       "       2, 2, 1, 2, 1, 2, 2, 2, 2, 1, 2, 1, 2, 1, 2, 1, 1, 2, 2, 1, 1, 1,\n",
       "       1, 2, 1, 1, 2, 1, 2, 2, 2, 1, 2, 1, 1, 2, 1, 2, 2, 1, 2, 1, 2, 2,\n",
       "       1, 2, 2, 2, 2, 1, 1, 1, 2, 2, 1, 1, 1, 1, 1, 2, 1, 1, 1, 1, 2, 2,\n",
       "       1, 1, 1, 1, 2, 2, 1, 1, 2, 2, 2, 2, 1, 2, 2, 1, 1, 1, 2, 2, 1, 1,\n",
       "       1, 2, 2, 1, 2, 1, 1, 1, 1, 1, 1, 2, 1, 1, 2, 1, 1, 2, 1, 1, 1, 2,\n",
       "       1, 1, 2, 1, 1, 1, 1, 2, 2, 2, 2, 2, 1, 1, 1, 2, 2, 2, 2, 1, 2, 2,\n",
       "       1, 1, 2, 1, 2, 2, 2, 1, 2, 2, 2, 2, 2, 1, 2, 2, 2, 1, 1, 1, 2, 1,\n",
       "       1, 1, 2, 2, 2, 1, 2, 2, 2, 2, 2, 2, 1, 1, 1, 2, 1, 2], dtype=int64)"
      ]
     },
     "execution_count": 24,
     "metadata": {},
     "output_type": "execute_result"
    }
   ],
   "source": [
    "y_pred_test_noneq"
   ]
  },
  {
   "cell_type": "code",
   "execution_count": 25,
   "id": "9d0512c5",
   "metadata": {},
   "outputs": [
    {
     "data": {
      "image/png": "[encoded data removed]",
      "text/plain": [
       "<Figure size 640x480 with 2 Axes>"
      ]
     },
     "metadata": {},
     "output_type": "display_data"
    }
   ],
   "source": [
    "fig = plot_confusion_matrix(mlp_clf_noneq, normalized_X_test, ymulti[X_test.index], display_labels=mlp_clf_noneq.classes_)\n",
    "fig.figure_.suptitle(\"Confusion Matrix for Winequality Dataset\")\n",
    "plt.show()"
   ]
  },
  {
   "cell_type": "markdown",
   "id": "cf9183a6",
   "metadata": {},
   "source": [
    "## On optimise un réseau de neurones avec un GridSearch sur nos hyperparamètres comme le nombre de neurones dans notre couche cachée, le solveur..."
   ]
  },
  {
   "cell_type": "markdown",
   "id": "dd309283",
   "metadata": {},
   "source": [
    "##### 4. Faire un bagging en utilisant comme classifieur de base le réseau de neurones.\n",
    "\n",
    "-\tTracer la courbe accuracy en fonction de n_estimators, en apprentissage et en test.\n",
    "-\tConclure sur le biais et la variance."
   ]
  },
  {
   "cell_type": "code",
   "execution_count": 26,
   "id": "ba5f93df",
   "metadata": {},
   "outputs": [
    {
     "data": {
      "text/html": [
       "<div>\n",
       "<style scoped>\n",
       "    .dataframe tbody tr th:only-of-type {\n",
       "        vertical-align: middle;\n",
       "    }\n",
       "\n",
       "    .dataframe tbody tr th {\n",
       "        vertical-align: top;\n",
       "    }\n",
       "\n",
       "    .dataframe thead th {\n",
       "        text-align: right;\n",
       "    }\n",
       "</style>\n",
       "<table border=\"1\" class=\"dataframe\">\n",
       "  <thead>\n",
       "    <tr style=\"text-align: right;\">\n",
       "      <th></th>\n",
       "      <th>estimators</th>\n",
       "      <th>accuracy_train</th>\n",
       "      <th>accuracy_test</th>\n",
       "      <th>temps_inference</th>\n",
       "    </tr>\n",
       "  </thead>\n",
       "  <tbody>\n",
       "    <tr>\n",
       "      <th>0</th>\n",
       "      <td>1</td>\n",
       "      <td>0.714924</td>\n",
       "      <td>0.679167</td>\n",
       "      <td>0.000370</td>\n",
       "    </tr>\n",
       "    <tr>\n",
       "      <th>1</th>\n",
       "      <td>2</td>\n",
       "      <td>0.711349</td>\n",
       "      <td>0.685417</td>\n",
       "      <td>0.000739</td>\n",
       "    </tr>\n",
       "    <tr>\n",
       "      <th>2</th>\n",
       "      <td>5</td>\n",
       "      <td>0.712243</td>\n",
       "      <td>0.687500</td>\n",
       "      <td>0.001845</td>\n",
       "    </tr>\n",
       "    <tr>\n",
       "      <th>3</th>\n",
       "      <td>10</td>\n",
       "      <td>0.720286</td>\n",
       "      <td>0.687500</td>\n",
       "      <td>0.003916</td>\n",
       "    </tr>\n",
       "    <tr>\n",
       "      <th>4</th>\n",
       "      <td>50</td>\n",
       "      <td>0.722073</td>\n",
       "      <td>0.695833</td>\n",
       "      <td>0.018402</td>\n",
       "    </tr>\n",
       "    <tr>\n",
       "      <th>5</th>\n",
       "      <td>100</td>\n",
       "      <td>0.716711</td>\n",
       "      <td>0.691667</td>\n",
       "      <td>0.037326</td>\n",
       "    </tr>\n",
       "    <tr>\n",
       "      <th>6</th>\n",
       "      <td>200</td>\n",
       "      <td>0.719392</td>\n",
       "      <td>0.693750</td>\n",
       "      <td>0.075633</td>\n",
       "    </tr>\n",
       "  </tbody>\n",
       "</table>\n",
       "</div>"
      ],
      "text/plain": [
       "   estimators  accuracy_train  accuracy_test  temps_inference\n",
       "0           1        0.714924       0.679167         0.000370\n",
       "1           2        0.711349       0.685417         0.000739\n",
       "2           5        0.712243       0.687500         0.001845\n",
       "3          10        0.720286       0.687500         0.003916\n",
       "4          50        0.722073       0.695833         0.018402\n",
       "5         100        0.716711       0.691667         0.037326\n",
       "6         200        0.719392       0.693750         0.075633"
      ]
     },
     "execution_count": 26,
     "metadata": {},
     "output_type": "execute_result"
    }
   ],
   "source": [
    "acc_train = []\n",
    "acc_test = []\n",
    "temps_inference = []\n",
    "nbr_estimators = [1, 2, 5, 10, 50, 100, 200]\n",
    "\n",
    "MLP_clf = MLPClassifier(solver='lbfgs', hidden_layer_sizes=(100), early_stopping=True)\n",
    "MLP_clf.out_activation_ = 'softmax'\n",
    "\n",
    "for i in nbr_estimators:\n",
    "    bagging_clf = BaggingClassifier(base_estimator=MLP_clf, n_estimators=i, verbose=False)\n",
    "    \n",
    "    t0 = time.time()\n",
    "    bagging_clf.fit(normalized_X_train, ymulti[X_train.index])\n",
    "    t1 = time.time()\n",
    "    \n",
    "    #predictions sur train et test\n",
    "    predict_train = bagging_clf.predict(normalized_X_train)\n",
    "    predict_test = bagging_clf.predict(normalized_X_test)\n",
    "    \n",
    "    acc_train.append(metrics.accuracy_score(ymulti[X_train.index], predict_train))\n",
    "    acc_test.append(metrics.accuracy_score(ymulti[X_test.index], predict_test))\n",
    "    temps_inference.append((t1-t0)/len(normalized_X_train))\n",
    "\n",
    "df = pd.DataFrame()\n",
    "df =df.assign(estimators=nbr_estimators)\n",
    "df =df.assign(accuracy_train=acc_train)\n",
    "df =df.assign(accuracy_test=acc_test)\n",
    "df =df.assign(temps_inference=temps_inference) \n",
    "df"
   ]
  },
  {
   "cell_type": "code",
   "execution_count": 27,
   "id": "c844b9d4",
   "metadata": {},
   "outputs": [
    {
     "data": {
      "image/png": "[encoded data removed]",
      "text/plain": [
       "<Figure size 640x480 with 1 Axes>"
      ]
     },
     "metadata": {},
     "output_type": "display_data"
    }
   ],
   "source": [
    "fig, ax = plt.subplots()\n",
    "sns.lineplot(x='estimators', y='accuracy_train', data=df, ax=ax, label='accuracy en train')\n",
    "sns.lineplot(x='estimators', y='accuracy_test', data=df, ax=ax, label='accuracy en test')\n",
    "plt.show()"
   ]
  },
  {
   "cell_type": "markdown",
   "id": "8764743c",
   "metadata": {},
   "source": [
    "A la partie précédente et avec la classification biclasse, nous avions utilisé du BOOSTING avec des arbres de décisions.\n",
    "\n",
    "Dans cette partie, nous faisons de la classification multiclasse avec du BAGGING : pour le bagging, nous avons besoin de modèles robustes de base, il n'est pas bon avec les apprenants faibles. C'est pour cela qu'ici, on préfère utiliser un MLP, plus robustes qu'un decision tree.\n",
    "\n",
    "Principe de l'OUT OF BAG : \n",
    "Estimation de l’erreur OOB (out-of-bag) : mesure l’erreur directement durant l’apprentissage, sans avoir à passer par une validation croisée.\n",
    "\n",
    "=> Sur-apprentissage (overfitting). Augmenter les modèles n’aboutit pas au sur-apprentissage. En pratique, une centaine suffit, mais on peut l’ajuster à l’étude.\n",
    "\n",
    "\n",
    "=> Bagging peut s’appliquer à tout type de modèle.\n",
    "\n",
    "\n",
    "=> Biais et variance. \n",
    "Biais bagging = biais du modèle de base. Le Bagging réduit avant tout la variance. Il faut donc que les modèles de base aient un biais faible.\n",
    "\n",
    "\n",
    "https://machinelearningmastery.com/strong-learners-vs-weak-learners-for-ensemble-learning/\n"
   ]
  },
  {
   "cell_type": "markdown",
   "id": "c577b384",
   "metadata": {},
   "source": [
    "### Partie 2\n",
    "##### 5. Entraîner une forêt aléatoire :\n",
    "\n",
    "-\tTracer la courbe accuracy en fonction de n_estimators pour max_depth = None, en apprentissage et en test.\n",
    "-\tFaire une recherche aléatoire (random search) pour optimiser les paramètres max_depth et n_estimators. Choisir les paramètres optimaux et donner les performances en apprentissage et en test. Comparer avec les résultats obtenus précédemment (matrice de confusion sur les données déséquilibrées et équilibrées).\n",
    "-\tAfficher les variables par ordre d’importance. Retrouve-t-on les mêmes variables qu’en B.3 ?\n",
    "-\tConclure sur le biais et la variance."
   ]
  },
  {
   "cell_type": "code",
   "execution_count": 28,
   "id": "d733ea9d",
   "metadata": {},
   "outputs": [
    {
     "data": {
      "text/html": [
       "<div>\n",
       "<style scoped>\n",
       "    .dataframe tbody tr th:only-of-type {\n",
       "        vertical-align: middle;\n",
       "    }\n",
       "\n",
       "    .dataframe tbody tr th {\n",
       "        vertical-align: top;\n",
       "    }\n",
       "\n",
       "    .dataframe thead th {\n",
       "        text-align: right;\n",
       "    }\n",
       "</style>\n",
       "<table border=\"1\" class=\"dataframe\">\n",
       "  <thead>\n",
       "    <tr style=\"text-align: right;\">\n",
       "      <th></th>\n",
       "      <th>estimators</th>\n",
       "      <th>accuracy_train</th>\n",
       "      <th>accuracy_test</th>\n",
       "      <th>temps_inference</th>\n",
       "    </tr>\n",
       "  </thead>\n",
       "  <tbody>\n",
       "    <tr>\n",
       "      <th>0</th>\n",
       "      <td>1</td>\n",
       "      <td>0.870420</td>\n",
       "      <td>0.662500</td>\n",
       "      <td>0.000007</td>\n",
       "    </tr>\n",
       "    <tr>\n",
       "      <th>1</th>\n",
       "      <td>2</td>\n",
       "      <td>0.882038</td>\n",
       "      <td>0.622917</td>\n",
       "      <td>0.000007</td>\n",
       "    </tr>\n",
       "    <tr>\n",
       "      <th>2</th>\n",
       "      <td>5</td>\n",
       "      <td>0.981233</td>\n",
       "      <td>0.720833</td>\n",
       "      <td>0.000014</td>\n",
       "    </tr>\n",
       "    <tr>\n",
       "      <th>3</th>\n",
       "      <td>10</td>\n",
       "      <td>0.991063</td>\n",
       "      <td>0.727083</td>\n",
       "      <td>0.000029</td>\n",
       "    </tr>\n",
       "    <tr>\n",
       "      <th>4</th>\n",
       "      <td>50</td>\n",
       "      <td>1.000000</td>\n",
       "      <td>0.766667</td>\n",
       "      <td>0.000098</td>\n",
       "    </tr>\n",
       "    <tr>\n",
       "      <th>5</th>\n",
       "      <td>100</td>\n",
       "      <td>1.000000</td>\n",
       "      <td>0.779167</td>\n",
       "      <td>0.000200</td>\n",
       "    </tr>\n",
       "    <tr>\n",
       "      <th>6</th>\n",
       "      <td>200</td>\n",
       "      <td>1.000000</td>\n",
       "      <td>0.760417</td>\n",
       "      <td>0.000398</td>\n",
       "    </tr>\n",
       "    <tr>\n",
       "      <th>7</th>\n",
       "      <td>500</td>\n",
       "      <td>1.000000</td>\n",
       "      <td>0.762500</td>\n",
       "      <td>0.000986</td>\n",
       "    </tr>\n",
       "  </tbody>\n",
       "</table>\n",
       "</div>"
      ],
      "text/plain": [
       "   estimators  accuracy_train  accuracy_test  temps_inference\n",
       "0           1        0.870420       0.662500         0.000007\n",
       "1           2        0.882038       0.622917         0.000007\n",
       "2           5        0.981233       0.720833         0.000014\n",
       "3          10        0.991063       0.727083         0.000029\n",
       "4          50        1.000000       0.766667         0.000098\n",
       "5         100        1.000000       0.779167         0.000200\n",
       "6         200        1.000000       0.760417         0.000398\n",
       "7         500        1.000000       0.762500         0.000986"
      ]
     },
     "execution_count": 28,
     "metadata": {},
     "output_type": "execute_result"
    }
   ],
   "source": [
    "acc_train = []\n",
    "acc_test = []\n",
    "temps_inference = []\n",
    "nb_arbres = [1, 2, 5, 10, 50, 100, 200, 500]\n",
    "\n",
    "for i in nb_arbres:\n",
    "    random_forest = RandomForestClassifier(n_estimators = i, criterion = \"gini\", max_depth = None)\n",
    "    \n",
    "    t0 = time.time()\n",
    "    random_forest.fit(X_train, ymulti[X_train.index])\n",
    "    t1 = time.time()\n",
    "    \n",
    "    pred_train = random_forest.predict(X_train)\n",
    "    pred_test = random_forest.predict(X_test)\n",
    "    acc_train.append(metrics.accuracy_score(ymulti[X_train.index], pred_train))\n",
    "    acc_test.append(metrics.accuracy_score(ymulti[X_test.index], pred_test))\n",
    "    temps_inference.append((t1-t0)/len(X_train))\n",
    "\n",
    "df = pd.DataFrame()\n",
    "df = df.assign(estimators=nb_arbres)\n",
    "df = df.assign(accuracy_train=acc_train)\n",
    "df = df.assign(accuracy_test=acc_test)\n",
    "df = df.assign(temps_inference=temps_inference)\n",
    "df"
   ]
  },
  {
   "cell_type": "code",
   "execution_count": 29,
   "id": "3ffd579d",
   "metadata": {},
   "outputs": [
    {
     "data": {
      "image/png": "[encoded data removed]",
      "text/plain": [
       "<Figure size 640x480 with 1 Axes>"
      ]
     },
     "metadata": {},
     "output_type": "display_data"
    }
   ],
   "source": [
    "fig, ax = plt.subplots()\n",
    "sns.lineplot(x='estimators', y='accuracy_train', data=df, ax=ax, label='accuracy en train')\n",
    "sns.lineplot(x='estimators', y='accuracy_test', data=df, ax=ax, label='accuracy en test')\n",
    "plt.show()"
   ]
  },
  {
   "cell_type": "code",
   "execution_count": 30,
   "id": "c51c915f",
   "metadata": {},
   "outputs": [
    {
     "name": "stdout",
     "output_type": "stream",
     "text": [
      " Results from Random Search \n",
      "\n",
      " The best estimator across ALL searched params:\n",
      " RandomForestClassifier(max_depth=51)\n",
      "\n",
      " The best score across ALL searched params:\n",
      " 0.7783752402306213\n",
      "\n",
      " The best parameters across ALL searched params:\n",
      " {'n_estimators': 100, 'max_depth': 51, 'criterion': 'gini'}\n"
     ]
    }
   ],
   "source": [
    "random_forest = RandomForestClassifier()\n",
    "\n",
    "#on instancie les paramètres\n",
    "parameters = {'max_depth': range(2, 100),\n",
    "              'n_estimators': [1, 2, 5, 10, 50, 100, 200, 500],\n",
    "              'criterion': ['gini', 'entropy']}\n",
    "\n",
    "random_search = RandomizedSearchCV(estimator=random_forest, param_distributions = parameters, cv = 5)\n",
    "random_search.fit(X_train, ymulti[X_train.index])\n",
    "\n",
    "print(\" Results from Random Search \" )\n",
    "print(\"\\n The best estimator across ALL searched params:\\n\", random_search.best_estimator_)\n",
    "print(\"\\n The best score across ALL searched params:\\n\", random_search.best_score_)\n",
    "print(\"\\n The best parameters across ALL searched params:\\n\", random_search.best_params_)"
   ]
  },
  {
   "cell_type": "code",
   "execution_count": 32,
   "id": "550a1dfa",
   "metadata": {},
   "outputs": [
    {
     "name": "stdout",
     "output_type": "stream",
     "text": [
      "Accuracy en apprentissage:  1.0\n",
      "Accuracy en test:  0.7729166666666667\n",
      "Temps d'inférence: 0.00021116109273602006\n"
     ]
    }
   ],
   "source": [
    "#model optimal sur données non équilibrées\n",
    "acc_train = []\n",
    "acc_test = []\n",
    "temps_inference = []\n",
    "\n",
    "random_forest = RandomForestClassifier(n_estimators = 100, criterion = \"gini\", max_depth = 85)\n",
    "    \n",
    "t0 = time.time()\n",
    "random_forest.fit(X_train, ymulti[X_train.index])\n",
    "t1 = time.time()\n",
    "\n",
    "total =((t1-t0)/len(X_train))\n",
    "    \n",
    "pred_train = random_forest.predict(X_train)\n",
    "pred_test = random_forest.predict(X_test)\n",
    "\n",
    "acc_train = metrics.accuracy_score(ymulti[X_train.index], pred_train)\n",
    "acc_test= metrics.accuracy_score(ymulti[X_test.index], pred_test)\n",
    "\n",
    "print('Accuracy en apprentissage: ', acc_train)\n",
    "print('Accuracy en test: ', acc_test)\n",
    "print(\"Temps d'inférence:\", total)"
   ]
  },
  {
   "cell_type": "code",
   "execution_count": 33,
   "id": "4caf44ad",
   "metadata": {},
   "outputs": [
    {
     "data": {
      "image/png": "[encoded data removed]",
      "text/plain": [
       "<Figure size 640x480 with 2 Axes>"
      ]
     },
     "metadata": {},
     "output_type": "display_data"
    }
   ],
   "source": [
    "fig = plot_confusion_matrix(random_forest, X_test, ymulti[X_test.index], display_labels=random_forest.classes_)\n",
    "fig.figure_.suptitle(\"Confusion Matrix for Winequality Dataset\")\n",
    "plt.show()"
   ]
  },
  {
   "cell_type": "code",
   "execution_count": 34,
   "id": "ab8dea5d",
   "metadata": {},
   "outputs": [
    {
     "data": {
      "text/html": [
       "<div>\n",
       "<style scoped>\n",
       "    .dataframe tbody tr th:only-of-type {\n",
       "        vertical-align: middle;\n",
       "    }\n",
       "\n",
       "    .dataframe tbody tr th {\n",
       "        vertical-align: top;\n",
       "    }\n",
       "\n",
       "    .dataframe thead th {\n",
       "        text-align: right;\n",
       "    }\n",
       "</style>\n",
       "<table border=\"1\" class=\"dataframe\">\n",
       "  <thead>\n",
       "    <tr style=\"text-align: right;\">\n",
       "      <th></th>\n",
       "      <th>Feature</th>\n",
       "      <th>Important Variables</th>\n",
       "    </tr>\n",
       "  </thead>\n",
       "  <tbody>\n",
       "    <tr>\n",
       "      <th>10</th>\n",
       "      <td>alcohol</td>\n",
       "      <td>0.173255</td>\n",
       "    </tr>\n",
       "    <tr>\n",
       "      <th>9</th>\n",
       "      <td>sulphates</td>\n",
       "      <td>0.114101</td>\n",
       "    </tr>\n",
       "    <tr>\n",
       "      <th>1</th>\n",
       "      <td>volatile acidity</td>\n",
       "      <td>0.113685</td>\n",
       "    </tr>\n",
       "    <tr>\n",
       "      <th>6</th>\n",
       "      <td>total sulfur dioxide</td>\n",
       "      <td>0.103415</td>\n",
       "    </tr>\n",
       "    <tr>\n",
       "      <th>7</th>\n",
       "      <td>density</td>\n",
       "      <td>0.094820</td>\n",
       "    </tr>\n",
       "    <tr>\n",
       "      <th>4</th>\n",
       "      <td>chlorides</td>\n",
       "      <td>0.078954</td>\n",
       "    </tr>\n",
       "    <tr>\n",
       "      <th>0</th>\n",
       "      <td>fixed acidity</td>\n",
       "      <td>0.075087</td>\n",
       "    </tr>\n",
       "    <tr>\n",
       "      <th>8</th>\n",
       "      <td>pH</td>\n",
       "      <td>0.068253</td>\n",
       "    </tr>\n",
       "    <tr>\n",
       "      <th>2</th>\n",
       "      <td>citric acid</td>\n",
       "      <td>0.061896</td>\n",
       "    </tr>\n",
       "    <tr>\n",
       "      <th>5</th>\n",
       "      <td>free sulfur dioxide</td>\n",
       "      <td>0.059116</td>\n",
       "    </tr>\n",
       "    <tr>\n",
       "      <th>3</th>\n",
       "      <td>residual sugar</td>\n",
       "      <td>0.057418</td>\n",
       "    </tr>\n",
       "  </tbody>\n",
       "</table>\n",
       "</div>"
      ],
      "text/plain": [
       "                 Feature  Important Variables\n",
       "10               alcohol             0.173255\n",
       "9              sulphates             0.114101\n",
       "1       volatile acidity             0.113685\n",
       "6   total sulfur dioxide             0.103415\n",
       "7                density             0.094820\n",
       "4              chlorides             0.078954\n",
       "0          fixed acidity             0.075087\n",
       "8                     pH             0.068253\n",
       "2            citric acid             0.061896\n",
       "5    free sulfur dioxide             0.059116\n",
       "3         residual sugar             0.057418"
      ]
     },
     "execution_count": 34,
     "metadata": {},
     "output_type": "execute_result"
    }
   ],
   "source": [
    "features_importance = pd.DataFrame({\"Feature\" : X.columns, \"Important Variables\" : random_forest.feature_importances_})\n",
    "features_importance = features_importance.sort_values(\"Important Variables\", ascending=False)\n",
    "features_importance"
   ]
  },
  {
   "cell_type": "code",
   "execution_count": 39,
   "id": "8774898a",
   "metadata": {},
   "outputs": [
    {
     "name": "stdout",
     "output_type": "stream",
     "text": [
      "Accuracy en apprentissage:  1.0\n",
      "Accuracy en test:  0.7395833333333334\n",
      "Temps d'inférence: 0.00030423126868417584\n"
     ]
    }
   ],
   "source": [
    "#model optimal sur données non équilibrées\n",
    "acc_train = []\n",
    "acc_test = []\n",
    "temps_inference = []\n",
    "\n",
    "random_forest_eq = RandomForestClassifier(n_estimators = 100, criterion = \"gini\", max_depth = 85)\n",
    "    \n",
    "t0 = time.time()\n",
    "random_forest_eq.fit(X_train_equil, y_train_equil)\n",
    "t1 = time.time()\n",
    "\n",
    "total =((t1-t0)/len(X_train))\n",
    "    \n",
    "pred_train = random_forest_eq.predict(X_train_equil)\n",
    "pred_test = random_forest_eq.predict(X_test)\n",
    "\n",
    "acc_train = metrics.accuracy_score(y_train_equil, pred_train)\n",
    "acc_test= metrics.accuracy_score(ymulti[X_test.index], pred_test)\n",
    "\n",
    "print('Accuracy en apprentissage: ', acc_train)\n",
    "print('Accuracy en test: ', acc_test)\n",
    "print(\"Temps d'inférence:\", total)"
   ]
  },
  {
   "cell_type": "code",
   "execution_count": 36,
   "id": "eef2570d",
   "metadata": {},
   "outputs": [
    {
     "data": {
      "image/png": "[encoded data removed]",
      "text/plain": [
       "<Figure size 640x480 with 2 Axes>"
      ]
     },
     "metadata": {},
     "output_type": "display_data"
    }
   ],
   "source": [
    "fig = plot_confusion_matrix(random_forest_eq, X_test, ymulti[X_test.index], display_labels=random_forest_eq.classes_)\n",
    "fig.figure_.suptitle(\"Confusion Matrix for Winequality Dataset\")\n",
    "plt.show()"
   ]
  },
  {
   "cell_type": "code",
   "execution_count": 40,
   "id": "83480b2e",
   "metadata": {},
   "outputs": [
    {
     "data": {
      "text/html": [
       "<div>\n",
       "<style scoped>\n",
       "    .dataframe tbody tr th:only-of-type {\n",
       "        vertical-align: middle;\n",
       "    }\n",
       "\n",
       "    .dataframe tbody tr th {\n",
       "        vertical-align: top;\n",
       "    }\n",
       "\n",
       "    .dataframe thead th {\n",
       "        text-align: right;\n",
       "    }\n",
       "</style>\n",
       "<table border=\"1\" class=\"dataframe\">\n",
       "  <thead>\n",
       "    <tr style=\"text-align: right;\">\n",
       "      <th></th>\n",
       "      <th>Feature</th>\n",
       "      <th>Important Variables</th>\n",
       "    </tr>\n",
       "  </thead>\n",
       "  <tbody>\n",
       "    <tr>\n",
       "      <th>9</th>\n",
       "      <td>sulphates</td>\n",
       "      <td>0.144207</td>\n",
       "    </tr>\n",
       "    <tr>\n",
       "      <th>6</th>\n",
       "      <td>total sulfur dioxide</td>\n",
       "      <td>0.139527</td>\n",
       "    </tr>\n",
       "    <tr>\n",
       "      <th>10</th>\n",
       "      <td>alcohol</td>\n",
       "      <td>0.126566</td>\n",
       "    </tr>\n",
       "    <tr>\n",
       "      <th>1</th>\n",
       "      <td>volatile acidity</td>\n",
       "      <td>0.112758</td>\n",
       "    </tr>\n",
       "    <tr>\n",
       "      <th>5</th>\n",
       "      <td>free sulfur dioxide</td>\n",
       "      <td>0.080424</td>\n",
       "    </tr>\n",
       "    <tr>\n",
       "      <th>8</th>\n",
       "      <td>pH</td>\n",
       "      <td>0.075744</td>\n",
       "    </tr>\n",
       "    <tr>\n",
       "      <th>7</th>\n",
       "      <td>density</td>\n",
       "      <td>0.070882</td>\n",
       "    </tr>\n",
       "    <tr>\n",
       "      <th>4</th>\n",
       "      <td>chlorides</td>\n",
       "      <td>0.067949</td>\n",
       "    </tr>\n",
       "    <tr>\n",
       "      <th>2</th>\n",
       "      <td>citric acid</td>\n",
       "      <td>0.064626</td>\n",
       "    </tr>\n",
       "    <tr>\n",
       "      <th>0</th>\n",
       "      <td>fixed acidity</td>\n",
       "      <td>0.062112</td>\n",
       "    </tr>\n",
       "    <tr>\n",
       "      <th>3</th>\n",
       "      <td>residual sugar</td>\n",
       "      <td>0.055204</td>\n",
       "    </tr>\n",
       "  </tbody>\n",
       "</table>\n",
       "</div>"
      ],
      "text/plain": [
       "                 Feature  Important Variables\n",
       "9              sulphates             0.144207\n",
       "6   total sulfur dioxide             0.139527\n",
       "10               alcohol             0.126566\n",
       "1       volatile acidity             0.112758\n",
       "5    free sulfur dioxide             0.080424\n",
       "8                     pH             0.075744\n",
       "7                density             0.070882\n",
       "4              chlorides             0.067949\n",
       "2            citric acid             0.064626\n",
       "0          fixed acidity             0.062112\n",
       "3         residual sugar             0.055204"
      ]
     },
     "execution_count": 40,
     "metadata": {},
     "output_type": "execute_result"
    }
   ],
   "source": [
    "features_importance = pd.DataFrame({\"Feature\" : X.columns, \"Important Variables\" : random_forest_eq.feature_importances_})\n",
    "features_importance = features_importance.sort_values(\"Important Variables\", ascending=False)\n",
    "features_importance"
   ]
  },
  {
   "cell_type": "markdown",
   "id": "bbd1a9c2",
   "metadata": {},
   "source": [
    "#### Random Forest :\n",
    "\n",
    "Pour rendre le bagging (plus) efficace, il faut que les arbres :\n",
    "1. Soient individuellement performants\n",
    "2. De grande profondeur (biais faible)\n",
    "3. Et surtout, très fortement différents les uns des autres\n",
    "\n",
    "→ Utiliser RSM pour décorréler les échantillons \n",
    "\n",
    ":) Bonnes performances en prédiction\n",
    "\n",
    ":) Paramétrage simple (B, max_depth)\n",
    "\n",
    ":) Pas de problème d’overfitting (on peut augmenter B)\n",
    "\n",
    ":) Evaluation de l’erreur intégrée (OOB)\n",
    "\n",
    ":) Mesure de l’importance des variables\n",
    "\n",
    "MAIS :\n",
    "\n",
    ":( Problème si nombre de variables pertinentes très faibles, dans l’absolu et relativement au nombre total de variables\n",
    "\n",
    ":( Explicabilité réduite\n",
    "\n",
    "\n",
    "\n",
    "\n",
    "##### NB :\n",
    "Scaling is done to Normalize data so that priority is not given to a particular feature. Role of Scaling is mostly important in algorithms that are distance based and require Euclidean Distance.\n",
    "\n",
    "Random Forest is a tree-based model and hence does not require feature scaling.\n",
    "\n",
    "This algorithm requires partitioning, even if you apply Normalization then also> the result would be the same.\n"
   ]
  },
  {
   "cell_type": "markdown",
   "id": "73e0feeb",
   "metadata": {},
   "source": [
    "#### Pour exporter le notebook en pdf :\n",
    "\n",
    "- Ouvrir le prompt anaconda\n",
    "- installer la bibliothèque : pip install nbconvert[webpdf]\n",
    "- taper : jupyter nbconvert --to webpdf --allow-chromium-download TP_MADAD_NOUAR.ipynb\n",
    "\n",
    "OU jupyter nbconvert --to webpdf --allow-chromium-download TP_MADAD_NOUAR.ipynb\n",
    "\n",
    "OU jupyter nbconvert --to webpdf --no-input TP_MADAD_NOUAR.ipynb\n",
    "\n",
    "OU jupyter nbconvert TP_MADAD_NOUAR.ipynb --to pdf"
   ]
  },
  {
   "cell_type": "code",
   "execution_count": null,
   "id": "daff140c",
   "metadata": {},
   "outputs": [],
   "source": []
  }
 ],
 "metadata": {
  "kernelspec": {
   "display_name": "Python 3 (ipykernel)",
   "language": "python",
   "name": "python3"
  },
  "language_info": {
   "codemirror_mode": {
    "name": "ipython",
    "version": 3
   },
   "file_extension": ".py",
   "mimetype": "text/x-python",
   "name": "python",
   "nbconvert_exporter": "python",
   "pygments_lexer": "ipython3",
   "version": "3.9.12"
  }
 },
 "nbformat": 4,
 "nbformat_minor": 5
}
